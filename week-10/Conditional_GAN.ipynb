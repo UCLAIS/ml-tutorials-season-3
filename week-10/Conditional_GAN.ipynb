{
  "cells": [
    {
      "cell_type": "markdown",
      "metadata": {
        "id": "so51PLE2vu1B"
      },
      "source": [
        "# Conditional GAN\n",
        "\n",
        "Credits to [Sayak Paul](https://twitter.com/RisingSayak)<br>\n",
        "**Description:** Training a GAN conditioned on class labels to generate handwritten digits."
      ]
    },
    {
      "cell_type": "markdown",
      "metadata": {
        "id": "qaGRIxdWvu1D"
      },
      "source": [
        "Generative Adversarial Networks (GANs) let us generate novel image data, video data,\n",
        "or audio data from a random input. Typically, the random input is sampled\n",
        "from a normal distribution, before going through a series of transformations that turn\n",
        "it into something plausible (image, video, audio, etc.).\n",
        "\n",
        "However, a simple [DCGAN](https://arxiv.org/abs/1511.06434) doesn't let us control\n",
        "the appearance (e.g. class) of the samples we're generating. For instance,\n",
        "with a GAN that generates MNIST handwritten digits, a simple DCGAN wouldn't let us\n",
        "choose the class of digits we're generating.\n",
        "To be able to control what we generate, we need to _condition_ the GAN output\n",
        "on a semantic input, such as the class of an image.\n",
        "\n",
        "In this example, we'll build a **Conditional GAN** that can generate MNIST handwritten\n",
        "digits conditioned on a given class. Such a model can have various useful applications:\n",
        "\n",
        "* let's say you are dealing with an\n",
        "[imbalanced image dataset](https://developers.google.com/machine-learning/data-prep/construct/sampling-splitting/imbalanced-data),\n",
        "and you'd like to gather more examples for the skewed class to balance the dataset.\n",
        "Data collection can be a costly process on its own. You could instead train a Conditional GAN and use\n",
        "it to generate novel images for the class that needs balancing.\n",
        "* Since the generator learns to associate the generated samples with the class labels,\n",
        "its representations can also be used for [other downstream tasks](https://arxiv.org/abs/1809.11096).\n",
        "\n",
        "Following are the references used for developing this example:\n",
        "\n",
        "* [Conditional Generative Adversarial Nets](https://arxiv.org/abs/1411.1784)\n",
        "* [Lecture on Conditional Generation from Coursera](https://www.coursera.org/lecture/build-basic-generative-adversarial-networks-gans/conditional-generation-inputs-2OPrG)\n",
        "\n",
        "If you need a refresher on GANs, you can refer to the \"Generative adversarial networks\"\n",
        "section of\n",
        "[this resource](https://livebook.manning.com/book/deep-learning-with-python-second-edition/chapter-12/r-3/232).\n",
        "\n",
        "This example requires TensorFlow 2.5 or higher, as well as TensorFlow Docs, which can be\n",
        "installed using the following command:"
      ]
    },
    {
      "cell_type": "code",
      "execution_count": null,
      "metadata": {
        "colab": {
          "base_uri": "https://localhost:8080/"
        },
        "id": "gBWx50Wcvu1E",
        "outputId": "21a126a7-5e94-4c36-b776-eb65f0878c8a"
      },
      "outputs": [
        {
          "name": "stdout",
          "output_type": "stream",
          "text": [
            "  Preparing metadata (setup.py) ... \u001b[?25l\u001b[?25hdone\n",
            "  Building wheel for tensorflow-docs (setup.py) ... \u001b[?25l\u001b[?25hdone\n"
          ]
        }
      ],
      "source": [
        "!pip install -q git+https://github.com/tensorflow/docs"
      ]
    },
    {
      "cell_type": "markdown",
      "metadata": {
        "id": "ykNhYpk4vu1E"
      },
      "source": [
        "## Imports"
      ]
    },
    {
      "cell_type": "code",
      "execution_count": null,
      "metadata": {
        "id": "A6Iu2zEfvu1E"
      },
      "outputs": [],
      "source": [
        "from tensorflow import keras\n",
        "from tensorflow.keras import layers\n",
        "\n",
        "from tensorflow_docs.vis import embed\n",
        "import matplotlib.pyplot as plt\n",
        "import tensorflow as tf\n",
        "import numpy as np\n",
        "import imageio"
      ]
    },
    {
      "cell_type": "markdown",
      "metadata": {
        "id": "V9dexwatvu1E"
      },
      "source": [
        "## Constants and hyperparameters"
      ]
    },
    {
      "cell_type": "code",
      "execution_count": null,
      "metadata": {
        "id": "0mBvXcF5vu1F"
      },
      "outputs": [],
      "source": [
        "batch_size = 64\n",
        "num_channels = 1\n",
        "num_classes = 10\n",
        "image_size = 28\n",
        "latent_dim = 128"
      ]
    },
    {
      "cell_type": "markdown",
      "metadata": {
        "id": "3DgEVcCcvu1F"
      },
      "source": [
        "## Loading the MNIST dataset and preprocessing it"
      ]
    },
    {
      "cell_type": "code",
      "execution_count": null,
      "metadata": {
        "colab": {
          "base_uri": "https://localhost:8080/"
        },
        "id": "52G4UDkDvu1F",
        "outputId": "6fd2b9af-7b20-4b58-b869-6755f8584d5b"
      },
      "outputs": [
        {
          "name": "stdout",
          "output_type": "stream",
          "text": [
            "Downloading data from https://storage.googleapis.com/tensorflow/tf-keras-datasets/mnist.npz\n",
            "11490434/11490434 [==============================] - 0s 0us/step\n",
            "Shape of training images: (70000, 28, 28, 1)\n",
            "Shape of training labels: (70000, 10)\n"
          ]
        }
      ],
      "source": [
        "# We'll use all the available examples from both the training and test\n",
        "# sets.\n",
        "(x_train, y_train), (x_test, y_test) = keras.datasets.mnist.load_data()\n",
        "all_digits = np.concatenate([x_train, x_test])\n",
        "all_labels = np.concatenate([y_train, y_test])\n",
        "\n",
        "# Scale the pixel values to [0, 1] range, add a channel dimension to\n",
        "# the images, and one-hot encode the labels.\n",
        "all_digits = all_digits.astype(\"float32\") / 255.0\n",
        "all_digits = np.reshape(all_digits, (-1, 28, 28, 1))\n",
        "all_labels = keras.utils.to_categorical(all_labels, 10)\n",
        "\n",
        "# Create tf.data.Dataset.\n",
        "dataset = tf.data.Dataset.from_tensor_slices((all_digits, all_labels))\n",
        "dataset = dataset.shuffle(buffer_size=1024).batch(batch_size)\n",
        "\n",
        "print(f\"Shape of training images: {all_digits.shape}\")\n",
        "print(f\"Shape of training labels: {all_labels.shape}\")"
      ]
    },
    {
      "cell_type": "markdown",
      "metadata": {
        "id": "m4JgwBNnvu1F"
      },
      "source": [
        "## Calculating the number of input channel for the generator and discriminator\n",
        "\n",
        "In a regular (unconditional) GAN, we start by sampling noise (of some fixed\n",
        "dimension) from a normal distribution. In our case, we also need to account\n",
        "for the class labels. We will have to add the number of classes to\n",
        "the input channels of the generator (noise input) as well as the discriminator\n",
        "(generated image input)."
      ]
    },
    {
      "cell_type": "code",
      "execution_count": null,
      "metadata": {
        "colab": {
          "base_uri": "https://localhost:8080/"
        },
        "id": "rmWUJRhPvu1G",
        "outputId": "301be1fb-da4f-4952-e8e5-3816d53b4ade"
      },
      "outputs": [
        {
          "name": "stdout",
          "output_type": "stream",
          "text": [
            "138 11\n"
          ]
        }
      ],
      "source": [
        "generator_in_channels = latent_dim + num_classes\n",
        "discriminator_in_channels = num_channels + num_classes\n",
        "print(generator_in_channels, discriminator_in_channels)"
      ]
    },
    {
      "cell_type": "markdown",
      "metadata": {
        "id": "0zo70MhCvu1G"
      },
      "source": [
        "## Creating the discriminator and generator\n",
        "\n",
        "The model definitions (`discriminator`, `generator`, and `ConditionalGAN`) have been\n",
        "adapted from [this example](https://keras.io/guides/customizing_what_happens_in_fit/)."
      ]
    },
    {
      "cell_type": "code",
      "execution_count": null,
      "metadata": {
        "id": "h8BjwaBkvu1G"
      },
      "outputs": [],
      "source": [
        "# Create the discriminator.\n",
        "discriminator = keras.Sequential(\n",
        "    [\n",
        "        keras.layers.InputLayer((28, 28, discriminator_in_channels)),\n",
        "        layers.Conv2D(64, (3, 3), strides=(2, 2), padding=\"same\"),\n",
        "        layers.LeakyReLU(alpha=0.2),\n",
        "        layers.Conv2D(128, (3, 3), strides=(2, 2), padding=\"same\"),\n",
        "        layers.LeakyReLU(alpha=0.2),\n",
        "        layers.GlobalMaxPooling2D(),\n",
        "        layers.Dense(1),\n",
        "    ],\n",
        "    name=\"discriminator\",\n",
        ")\n",
        "\n",
        "# Create the generator.\n",
        "generator = keras.Sequential(\n",
        "    [\n",
        "        keras.layers.InputLayer((generator_in_channels,)),\n",
        "        # We want to generate 128 + num_classes coefficients to reshape into a\n",
        "        # 7x7x(128 + num_classes) map.\n",
        "        layers.Dense(7 * 7 * generator_in_channels),\n",
        "        layers.LeakyReLU(alpha=0.2),\n",
        "        layers.Reshape((7, 7, generator_in_channels)),\n",
        "        layers.Conv2DTranspose(128, (4, 4), strides=(2, 2), padding=\"same\"),\n",
        "        layers.LeakyReLU(alpha=0.2),\n",
        "        layers.Conv2DTranspose(128, (4, 4), strides=(2, 2), padding=\"same\"),\n",
        "        layers.LeakyReLU(alpha=0.2),\n",
        "        layers.Conv2D(1, (7, 7), padding=\"same\", activation=\"sigmoid\"),\n",
        "    ],\n",
        "    name=\"generator\",\n",
        ")"
      ]
    },
    {
      "cell_type": "markdown",
      "metadata": {
        "id": "mnA6Bs9Xvu1G"
      },
      "source": [
        "## Creating a `ConditionalGAN` model\n",
        "\n",
        "Notice that we're inheriting `keras.Model` class, which lets us mimic the way we would compile and train a typical Keras model."
      ]
    },
    {
      "cell_type": "code",
      "execution_count": null,
      "metadata": {
        "id": "Xn-Fy0Ntvu1G"
      },
      "outputs": [],
      "source": [
        "class ConditionalGAN(keras.Model):\n",
        "    def __init__(self, discriminator, generator, latent_dim):\n",
        "        super().__init__()\n",
        "        self.discriminator = discriminator\n",
        "        self.generator = generator\n",
        "        self.latent_dim = latent_dim\n",
        "        self.gen_loss_tracker = keras.metrics.Mean(name=\"generator_loss\")\n",
        "        self.disc_loss_tracker = keras.metrics.Mean(name=\"discriminator_loss\")\n",
        "\n",
        "    @property\n",
        "    def metrics(self):\n",
        "        # Lets you track the current loss\n",
        "        return [self.gen_loss_tracker, self.disc_loss_tracker]\n",
        "\n",
        "    def compile(self, d_optimizer, g_optimizer, loss_fn):\n",
        "        # Compile the model by setting the optimiser and loss function\n",
        "        super().compile()\n",
        "        self.d_optimizer = d_optimizer\n",
        "        self.g_optimizer = g_optimizer\n",
        "        self.loss_fn = loss_fn\n",
        "\n",
        "    def train_step(self, data):\n",
        "        # Unpack the data.\n",
        "        real_images, one_hot_labels = data\n",
        "\n",
        "        # Add dummy dimensions to the labels so that they can be concatenated with\n",
        "        # the images. This is for the discriminator.\n",
        "        image_one_hot_labels = one_hot_labels[:, :, None, None]\n",
        "        image_one_hot_labels = tf.repeat(\n",
        "            image_one_hot_labels, repeats=[image_size * image_size]\n",
        "        )\n",
        "        image_one_hot_labels = tf.reshape(\n",
        "            image_one_hot_labels, (-1, image_size, image_size, num_classes)\n",
        "        )\n",
        "\n",
        "        # Sample random points in the latent space and concatenate the labels.\n",
        "        # This is for the generator.\n",
        "        batch_size = tf.shape(real_images)[0]\n",
        "        random_latent_vectors = tf.random.normal(shape=(batch_size, self.latent_dim))\n",
        "        random_vector_labels = tf.concat(\n",
        "            [random_latent_vectors, one_hot_labels], axis=1\n",
        "        )\n",
        "\n",
        "        # Decode the noise (guided by labels) to fake images.\n",
        "        generated_images = self.generator(random_vector_labels)\n",
        "\n",
        "        # Combine them with real images. Note that we are concatenating the labels\n",
        "        # with these images here.\n",
        "        fake_image_and_labels = tf.concat([generated_images, image_one_hot_labels], -1)\n",
        "        real_image_and_labels = tf.concat([real_images, image_one_hot_labels], -1)\n",
        "        combined_images = tf.concat(\n",
        "            [fake_image_and_labels, real_image_and_labels], axis=0\n",
        "        )\n",
        "\n",
        "        # Assemble labels discriminating real from fake images.\n",
        "        labels = tf.concat(\n",
        "            [tf.ones((batch_size, 1)), tf.zeros((batch_size, 1))], axis=0\n",
        "        )\n",
        "\n",
        "        # Train the discriminator.\n",
        "        with tf.GradientTape() as tape:\n",
        "            # Record operations for automatic differentiation.\n",
        "            predictions = self.discriminator(combined_images)\n",
        "            d_loss = self.loss_fn(labels, predictions)\n",
        "        grads = tape.gradient(d_loss, self.discriminator.trainable_weights)\n",
        "        self.d_optimizer.apply_gradients(\n",
        "            zip(grads, self.discriminator.trainable_weights)\n",
        "        )\n",
        "\n",
        "        # Sample random points in the latent space, which will be used inputs\n",
        "        # for the generator\n",
        "        random_latent_vectors = tf.random.normal(shape=(batch_size, self.latent_dim))\n",
        "        random_vector_labels = tf.concat(\n",
        "            [random_latent_vectors, one_hot_labels], axis=1\n",
        "        )\n",
        "\n",
        "        # Assemble labels that say \"all real images\".\n",
        "        misleading_labels = tf.zeros((batch_size, 1))\n",
        "\n",
        "        # Train the generator (note that we should *not* update the weights\n",
        "        # of the discriminator)!\n",
        "        with tf.GradientTape() as tape:\n",
        "            fake_images = self.generator(random_vector_labels)\n",
        "            fake_image_and_labels = tf.concat([fake_images, image_one_hot_labels], -1)\n",
        "            predictions = self.discriminator(fake_image_and_labels)\n",
        "            g_loss = self.loss_fn(misleading_labels, predictions)\n",
        "        grads = tape.gradient(g_loss, self.generator.trainable_weights)\n",
        "        self.g_optimizer.apply_gradients(zip(grads, self.generator.trainable_weights))\n",
        "\n",
        "        # Monitor loss.\n",
        "        self.gen_loss_tracker.update_state(g_loss)\n",
        "        self.disc_loss_tracker.update_state(d_loss)\n",
        "        return {\n",
        "            \"g_loss\": self.gen_loss_tracker.result(),\n",
        "            \"d_loss\": self.disc_loss_tracker.result(),\n",
        "        }\n"
      ]
    },
    {
      "cell_type": "markdown",
      "metadata": {
        "id": "cusUUBAZvu1G"
      },
      "source": [
        "## Training the Conditional GAN"
      ]
    },
    {
      "cell_type": "code",
      "execution_count": null,
      "metadata": {
        "colab": {
          "background_save": true,
          "base_uri": "https://localhost:8080/"
        },
        "id": "3uDzjEhCvu1G",
        "outputId": "fb8ea6aa-23b1-4b0c-ca90-3a2634293296"
      },
      "outputs": [
        {
          "name": "stdout",
          "output_type": "stream",
          "text": [
            "Epoch 1/20\n",
            "1094/1094 [==============================] - 48s 31ms/step - g_loss: 1.6038 - d_loss: 0.4228\n",
            "Epoch 2/20\n",
            "1094/1094 [==============================] - 33s 31ms/step - g_loss: 1.2528 - d_loss: 0.4960\n",
            "Epoch 3/20\n",
            "1094/1094 [==============================] - 33s 30ms/step - g_loss: 1.6190 - d_loss: 0.3754\n",
            "Epoch 4/20\n",
            "1094/1094 [==============================] - 33s 30ms/step - g_loss: 2.2291 - d_loss: 0.2765\n",
            "Epoch 5/20\n",
            "1094/1094 [==============================] - 34s 31ms/step - g_loss: 1.1189 - d_loss: 0.5920\n",
            "Epoch 6/20\n",
            "1094/1094 [==============================] - 35s 32ms/step - g_loss: 0.9431 - d_loss: 0.6260\n",
            "Epoch 7/20\n",
            "1094/1094 [==============================] - 34s 31ms/step - g_loss: 0.8927 - d_loss: 0.6564\n",
            "Epoch 8/20\n",
            "1094/1094 [==============================] - 34s 31ms/step - g_loss: 0.8415 - d_loss: 0.6621\n",
            "Epoch 9/20\n",
            "1094/1094 [==============================] - 34s 31ms/step - g_loss: 0.8103 - d_loss: 0.6681\n",
            "Epoch 10/20\n",
            "1094/1094 [==============================] - 34s 31ms/step - g_loss: 0.7889 - d_loss: 0.6722\n",
            "Epoch 11/20\n",
            "1094/1094 [==============================] - 33s 31ms/step - g_loss: 0.7822 - d_loss: 0.6738\n",
            "Epoch 12/20\n",
            "1094/1094 [==============================] - 34s 31ms/step - g_loss: 0.7663 - d_loss: 0.6779\n",
            "Epoch 13/20\n",
            "1094/1094 [==============================] - 33s 30ms/step - g_loss: 0.7711 - d_loss: 0.6783\n",
            "Epoch 14/20\n",
            "1094/1094 [==============================] - 33s 30ms/step - g_loss: 0.7577 - d_loss: 0.6783\n",
            "Epoch 15/20\n",
            "1094/1094 [==============================] - 33s 30ms/step - g_loss: 0.7646 - d_loss: 0.6733\n",
            "Epoch 16/20\n",
            "1094/1094 [==============================] - 33s 31ms/step - g_loss: 0.7710 - d_loss: 0.6722\n",
            "Epoch 17/20\n",
            "1094/1094 [==============================] - 33s 30ms/step - g_loss: 0.7713 - d_loss: 0.6700\n",
            "Epoch 18/20\n",
            "1094/1094 [==============================] - 33s 30ms/step - g_loss: 0.7720 - d_loss: 0.6704\n",
            "Epoch 19/20\n",
            "1094/1094 [==============================] - 33s 30ms/step - g_loss: 0.7724 - d_loss: 0.6682\n",
            "Epoch 20/20\n",
            "1094/1094 [==============================] - 33s 30ms/step - g_loss: 0.7900 - d_loss: 0.6573\n"
          ]
        },
        {
          "data": {
            "text/plain": [
              "<keras.callbacks.History at 0x7f1a78c87880>"
            ]
          },
          "execution_count": 8,
          "metadata": {},
          "output_type": "execute_result"
        }
      ],
      "source": [
        "cond_gan = ConditionalGAN(\n",
        "    discriminator=discriminator, generator=generator, latent_dim=latent_dim\n",
        ")\n",
        "cond_gan.compile(\n",
        "    d_optimizer=keras.optimizers.Adam(learning_rate=0.0003),\n",
        "    g_optimizer=keras.optimizers.Adam(learning_rate=0.0003),\n",
        "    loss_fn=keras.losses.BinaryCrossentropy(from_logits=True),\n",
        ")\n",
        "\n",
        "cond_gan.fit(dataset, epochs=20)"
      ]
    },
    {
      "cell_type": "markdown",
      "metadata": {
        "id": "XLAJsJa6vu1H"
      },
      "source": [
        "## Interpolating between classes with the trained generator"
      ]
    },
    {
      "cell_type": "code",
      "execution_count": null,
      "metadata": {
        "colab": {
          "background_save": true
        },
        "id": "RxGVxMAPvu1H",
        "outputId": "352380bd-fc81-4310-ad38-5d5d2ac4c01c"
      },
      "outputs": [
        {
          "name": "stdout",
          "output_type": "stream",
          "text": [
            "1/1 [==============================] - 0s 196ms/step\n"
          ]
        }
      ],
      "source": [
        "# We first extract the trained generator from our Conditiona GAN.\n",
        "trained_gen = cond_gan.generator\n",
        "\n",
        "# Choose the number of intermediate images that would be generated in\n",
        "# between the interpolation + 2 (start and last images).\n",
        "num_interpolation = 9  # @param {type:\"integer\"}\n",
        "\n",
        "# Sample noise for the interpolation.\n",
        "interpolation_noise = tf.random.normal(shape=(1, latent_dim))\n",
        "interpolation_noise = tf.repeat(interpolation_noise, repeats=num_interpolation)\n",
        "interpolation_noise = tf.reshape(interpolation_noise, (num_interpolation, latent_dim))\n",
        "\n",
        "\n",
        "def interpolate_class(first_number, second_number):\n",
        "    # Convert the start and end labels to one-hot encoded vectors.\n",
        "    first_label = keras.utils.to_categorical([first_number], num_classes)\n",
        "    second_label = keras.utils.to_categorical([second_number], num_classes)\n",
        "    first_label = tf.cast(first_label, tf.float32)\n",
        "    second_label = tf.cast(second_label, tf.float32)\n",
        "\n",
        "    # Calculate the interpolation vector between the two labels.\n",
        "    percent_second_label = tf.linspace(0, 1, num_interpolation)[:, None]\n",
        "    percent_second_label = tf.cast(percent_second_label, tf.float32)\n",
        "    interpolation_labels = (\n",
        "        first_label * (1 - percent_second_label) + second_label * percent_second_label\n",
        "    )\n",
        "\n",
        "    # Combine the noise and the labels and run inference with the generator.\n",
        "    noise_and_labels = tf.concat([interpolation_noise, interpolation_labels], 1)\n",
        "    fake = trained_gen.predict(noise_and_labels)\n",
        "    return fake\n",
        "\n",
        "\n",
        "start_class = 1  # @param {type:\"slider\", min:0, max:9, step:1}\n",
        "end_class = 5  # @param {type:\"slider\", min:0, max:9, step:1}\n",
        "\n",
        "fake_images = interpolate_class(start_class, end_class)"
      ]
    },
    {
      "cell_type": "markdown",
      "metadata": {
        "id": "qIaC5IFtvu1H"
      },
      "source": [
        "Here, we first sample noise from a normal distribution and then we repeat that for\n",
        "`num_interpolation` times and reshape the result accordingly.\n",
        "We then distribute it uniformly for `num_interpolation`\n",
        "with the label indentities being present in some proportion."
      ]
    },
    {
      "cell_type": "code",
      "execution_count": null,
      "metadata": {
        "colab": {
          "background_save": true
        },
        "id": "Sr3h3_CFvu1H",
        "outputId": "85ef8622-530f-48f8-e7d0-2caff077b09d"
      },
      "outputs": [
        {
          "data": {
            "text/html": [
              "<img src=\"data:image/gif;base64,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\"/>"
            ],
            "text/plain": [
              "<IPython.core.display.HTML object>"
            ]
          },
          "execution_count": 10,
          "metadata": {},
          "output_type": "execute_result"
        }
      ],
      "source": [
        "fake_images *= 255.0\n",
        "converted_images = fake_images.astype(np.uint8)\n",
        "converted_images = tf.image.resize(converted_images, (96, 96)).numpy().astype(np.uint8)\n",
        "imageio.mimsave(\"animation.gif\", converted_images, fps=1)\n",
        "embed.embed_file(\"animation.gif\")"
      ]
    },
    {
      "cell_type": "markdown",
      "metadata": {
        "id": "SzAr-Udmvu1H"
      },
      "source": [
        "We can further improve the performance of this model with recipes like\n",
        "[WGAN-GP](https://keras.io/examples/generative/wgan_gp).\n",
        "Conditional generation is also widely used in many modern image generation architectures like\n",
        "[VQ-GANs](https://arxiv.org/abs/2012.09841), [DALL-E](https://openai.com/blog/dall-e/),\n",
        "etc.\n",
        "\n",
        "You can use the trained model hosted on [Hugging Face Hub](https://huggingface.co/keras-io/conditional-gan) and try the demo on [Hugging Face Spaces](https://huggingface.co/spaces/keras-io/conditional-GAN)."
      ]
    }
  ],
  "metadata": {
    "accelerator": "GPU",
    "colab": {
      "provenance": [],
      "toc_visible": true
    },
    "gpuClass": "standard",
    "kernelspec": {
      "display_name": "Python 3",
      "language": "python",
      "name": "python3"
    },
    "language_info": {
      "codemirror_mode": {
        "name": "ipython",
        "version": 3
      },
      "file_extension": ".py",
      "mimetype": "text/x-python",
      "name": "python",
      "nbconvert_exporter": "python",
      "pygments_lexer": "ipython3",
      "version": "3.7.0"
    }
  },
  "nbformat": 4,
  "nbformat_minor": 0
}